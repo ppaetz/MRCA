{
  "cells": [
    {
      "cell_type": "markdown",
      "metadata": {
        "id": "view-in-github",
        "colab_type": "text"
      },
      "source": [
        "<a href=\"https://colab.research.google.com/github/ppaetz/MRCA/blob/ex01/noise_filtering.ipynb\" target=\"_parent\"><img src=\"https://colab.research.google.com/assets/colab-badge.svg\" alt=\"Open In Colab\"/></a>"
      ]
    },
    {
      "cell_type": "code",
      "execution_count": 56,
      "id": "4fa018c3",
      "metadata": {
        "id": "4fa018c3"
      },
      "outputs": [],
      "source": [
        "import matplotlib.pyplot as plt\n",
        "import numpy as np\n",
        "import scipy.stats as stats\n",
        "import math\n",
        "import random\n",
        "import statistics\n",
        "import pandas as pd\n",
        "\n",
        "# Fix the seed for reproducibility of the result\n",
        "np.random.seed(10)"
      ]
    },
    {
      "cell_type": "code",
      "source": [
        "# TASK 1.2.1\n",
        "# Draw samples from uniform distribution\n",
        "power = [3, 4, 5, 6]\n",
        "for i in power:\n",
        "  print(\"   Ten to the power of \" + str(i))\n",
        "  x = 10**i\n",
        "  uni = np.random.uniform(-1.0, 1.0, x)\n",
        "  plt.hist(uni, bins = 40)\n",
        "  plt.ylabel(\"Counts\")\n",
        "  plt.xlabel(\"Range\")\n",
        "\n",
        "# Plot histogram\n",
        "  plt.show()\n",
        "  print(\"\\n\")"
      ],
      "metadata": {
        "id": "E5AFG2fMGBKb",
        "colab": {
          "base_uri": "https://localhost:8080/",
          "height": 1000
        },
        "outputId": "81775f09-0201-4417-fb9c-6c0584288df1"
      },
      "id": "E5AFG2fMGBKb",
      "execution_count": 57,
      "outputs": [
        {
          "output_type": "stream",
          "name": "stdout",
          "text": [
            "   Ten to the power of 3\n"
          ]
        },
        {
          "output_type": "display_data",
          "data": {
            "text/plain": [
              "<Figure size 432x288 with 1 Axes>"
            ],
            "image/png": "[encoded data removed]"
          },
          "metadata": {
            "needs_background": "light"
          }
        },
        {
          "output_type": "stream",
          "name": "stdout",
          "text": [
            "\n",
            "\n",
            "   Ten to the power of 4\n"
          ]
        },
        {
          "output_type": "display_data",
          "data": {
            "text/plain": [
              "<Figure size 432x288 with 1 Axes>"
            ],
            "image/png": "[encoded data removed]"
          },
          "metadata": {
            "needs_background": "light"
          }
        },
        {
          "output_type": "stream",
          "name": "stdout",
          "text": [
            "\n",
            "\n",
            "   Ten to the power of 5\n"
          ]
        },
        {
          "output_type": "display_data",
          "data": {
            "text/plain": [
              "<Figure size 432x288 with 1 Axes>"
            ],
            "image/png": "[encoded data removed]"
          },
          "metadata": {
            "needs_background": "light"
          }
        },
        {
          "output_type": "stream",
          "name": "stdout",
          "text": [
            "\n",
            "\n",
            "   Ten to the power of 6\n"
          ]
        },
        {
          "output_type": "display_data",
          "data": {
            "text/plain": [
              "<Figure size 432x288 with 1 Axes>"
            ],
            "image/png": "[encoded data removed]"
          },
          "metadata": {
            "needs_background": "light"
          }
        },
        {
          "output_type": "stream",
          "name": "stdout",
          "text": [
            "\n",
            "\n"
          ]
        }
      ]
    },
    {
      "cell_type": "code",
      "source": [
        "# TASK 1.2.1\n",
        "# Draw samples from gaussian distribution\n",
        "for i in power:\n",
        "  print(\"   Ten to the power of \" + str(i))\n",
        "  x = 10**i\n",
        "  uni = np.random.normal(-1.0,1.0,x)\n",
        "  plt.hist(uni, bins = 40)\n",
        "  plt.ylabel(\"Counts\")\n",
        "  plt.xlabel(\"Range\")\n",
        "# Plot histogram floats in the half-ope\n",
        "  plt.show()\n",
        "  print(\"\\n\")"
      ],
      "metadata": {
        "id": "o9ZJIgdtGI9e",
        "colab": {
          "base_uri": "https://localhost:8080/",
          "height": 1000
        },
        "outputId": "d2443064-3473-4a41-d0ad-487e61c1717a"
      },
      "id": "o9ZJIgdtGI9e",
      "execution_count": 58,
      "outputs": [
        {
          "output_type": "stream",
          "name": "stdout",
          "text": [
            "   Ten to the power of 3\n"
          ]
        },
        {
          "output_type": "display_data",
          "data": {
            "text/plain": [
              "<Figure size 432x288 with 1 Axes>"
            ],
            "image/png": "[encoded data removed]"
          },
          "metadata": {
            "needs_background": "light"
          }
        },
        {
          "output_type": "stream",
          "name": "stdout",
          "text": [
            "\n",
            "\n",
            "   Ten to the power of 4\n"
          ]
        },
        {
          "output_type": "display_data",
          "data": {
            "text/plain": [
              "<Figure size 432x288 with 1 Axes>"
            ],
            "image/png": "[encoded data removed]"
          },
          "metadata": {
            "needs_background": "light"
          }
        },
        {
          "output_type": "stream",
          "name": "stdout",
          "text": [
            "\n",
            "\n",
            "   Ten to the power of 5\n"
          ]
        },
        {
          "output_type": "display_data",
          "data": {
            "text/plain": [
              "<Figure size 432x288 with 1 Axes>"
            ],
            "image/png": "[encoded data removed]"
          },
          "metadata": {
            "needs_background": "light"
          }
        },
        {
          "output_type": "stream",
          "name": "stdout",
          "text": [
            "\n",
            "\n",
            "   Ten to the power of 6\n"
          ]
        },
        {
          "output_type": "display_data",
          "data": {
            "text/plain": [
              "<Figure size 432x288 with 1 Axes>"
            ],
            "image/png": "[encoded data removed]"
          },
          "metadata": {
            "needs_background": "light"
          }
        },
        {
          "output_type": "stream",
          "name": "stdout",
          "text": [
            "\n",
            "\n"
          ]
        }
      ]
    },
    {
      "cell_type": "code",
      "execution_count": 59,
      "id": "345b9484",
      "metadata": {
        "id": "345b9484"
      },
      "outputs": [],
      "source": [
        "# TASK 1.2.2\n",
        "# Generate a sinusoidal signal\n",
        "\n",
        "# Add Gaussian noise to the signal       \n",
        "\n",
        "# Plot signal with and without noise"
      ]
    },
    {
      "cell_type": "code",
      "execution_count": 60,
      "id": "2bf60c79",
      "metadata": {
        "id": "2bf60c79"
      },
      "outputs": [],
      "source": [
        "# TASK 1.2.3 (a)\n",
        "# SIMPLE MOVING AVERAGE\n",
        "\n",
        "# Initialize window size\n",
        "\n",
        "# Compute window average using the SMA formula \n",
        "\n",
        "# Compute delay\n",
        "\n",
        "# Shift the x time axis to compensate the delay                    \n",
        "\n",
        "# Plot data with labels"
      ]
    },
    {
      "cell_type": "code",
      "execution_count": 61,
      "id": "27311401",
      "metadata": {
        "id": "27311401"
      },
      "outputs": [],
      "source": [
        "# TASK 1.2.3 (b)\n",
        "# WEIGHTED MOVING AVERAGE\n",
        "\n",
        "# Initialize window size\n",
        "\n",
        "# Compute window average using the WMA formula \n",
        "\n",
        "# Compute delay\n",
        "\n",
        "# Shift the x time axis to compensate the delay                    \n",
        "\n",
        "# Plot data with labels"
      ]
    },
    {
      "cell_type": "code",
      "execution_count": 62,
      "id": "4c966791",
      "metadata": {
        "id": "4c966791"
      },
      "outputs": [],
      "source": [
        "# TASK 1.2.3 (c)\n",
        "# EXPONENTIAL MOVING AVERAGE\n",
        "\n",
        "# Initialize exponential decay factor\n",
        "\n",
        "# Compute window average using the EMA formula \n",
        "\n",
        "# Compute delay\n",
        "\n",
        "# Shift the x time axis to compensate the delay                    \n",
        "\n",
        "# Plot data with labels"
      ]
    }
  ],
  "metadata": {
    "kernelspec": {
      "display_name": "Python 3 (ipykernel)",
      "language": "python",
      "name": "python3"
    },
    "language_info": {
      "codemirror_mode": {
        "name": "ipython",
        "version": 3
      },
      "file_extension": ".py",
      "mimetype": "text/x-python",
      "name": "python",
      "nbconvert_exporter": "python",
      "pygments_lexer": "ipython3",
      "version": "3.9.5"
    },
    "colab": {
      "name": "noise_filtering.ipynb",
      "provenance": [],
      "collapsed_sections": [],
      "include_colab_link": true
    }
  },
  "nbformat": 4,
  "nbformat_minor": 5
}